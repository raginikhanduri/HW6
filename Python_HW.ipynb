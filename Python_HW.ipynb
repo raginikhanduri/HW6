{
  "cells": [
    {
      "cell_type": "markdown",
      "metadata": {
        "id": "view-in-github",
        "colab_type": "text"
      },
      "source": [
        "<a href=\"https://colab.research.google.com/github/raginikhanduri/HW6/blob/main/Python_HW.ipynb\" target=\"_parent\"><img src=\"https://colab.research.google.com/assets/colab-badge.svg\" alt=\"Open In Colab\"/></a>"
      ]
    },
    {
      "cell_type": "markdown",
      "source": [
        "Homework PyML1 Starter Code\n",
        "\n",
        "### Ragini Khanduri"
      ],
      "metadata": {
        "id": "zgv6ZvBjTSNU"
      }
    },
    {
      "cell_type": "code",
      "source": [
        "# Notebook imports\n",
        "\n",
        "import io\n",
        "import pandas as pd\n",
        "import numpy as np\n",
        "import seaborn as sb\n",
        "from sklearn.model_selection import train_test_split\n",
        "from sklearn.linear_model import LogisticRegression\n",
        "from sklearn import tree\n",
        "from sklearn.neighbors import KNeighborsClassifier\n",
        "from sklearn.metrics import classification_report\n",
        "from google.colab import files"
      ],
      "outputs": [],
      "execution_count": null,
      "metadata": {
        "execution": {
          "iopub.status.busy": "2022-04-07T16:03:13.922Z",
          "iopub.execute_input": "2022-04-07T16:03:13.934Z",
          "iopub.status.idle": "2022-04-07T16:03:15.508Z",
          "shell.execute_reply": "2022-04-07T16:03:15.592Z"
        },
        "id": "-EWZd2KMTSNZ"
      }
    },
    {
      "cell_type": "markdown",
      "source": [
        "### 1 - Read the Auto data\n",
        "\n",
        "* Use pandas to read the Auto.csv file\n",
        "* Print the first few rows\n",
        "* Print the dimensions of the data\n"
      ],
      "metadata": {
        "id": "0b_32a1nTSNb"
      }
    },
    {
      "cell_type": "code",
      "source": [
        "# Read the Auto.csv file\n",
        "uploaded = files.upload()\n",
        "df = pd.read_csv(io.BytesIO(uploaded['Auto.csv']))"
      ],
      "outputs": [
        {
          "output_type": "display_data",
          "data": {
            "text/plain": [
              "<IPython.core.display.HTML object>"
            ],
            "text/html": [
              "\n",
              "     <input type=\"file\" id=\"files-c45a38ca-e1b8-452f-851c-fb19acbcb21a\" name=\"files[]\" multiple disabled\n",
              "        style=\"border:none\" />\n",
              "     <output id=\"result-c45a38ca-e1b8-452f-851c-fb19acbcb21a\">\n",
              "      Upload widget is only available when the cell has been executed in the\n",
              "      current browser session. Please rerun this cell to enable.\n",
              "      </output>\n",
              "      <script src=\"/nbextensions/google.colab/files.js\"></script> "
            ]
          },
          "metadata": {}
        },
        {
          "output_type": "stream",
          "name": "stdout",
          "text": [
            "Saving Auto.csv to Auto.csv\n"
          ]
        }
      ],
      "execution_count": null,
      "metadata": {
        "execution": {
          "iopub.status.busy": "2022-04-07T16:03:16.721Z",
          "iopub.execute_input": "2022-04-07T16:03:16.735Z",
          "iopub.status.idle": "2022-04-07T16:03:16.759Z",
          "shell.execute_reply": "2022-04-07T16:03:16.780Z"
        },
        "colab": {
          "base_uri": "https://localhost:8080/",
          "height": 73,
          "resources": {
            "http://localhost:8080/nbextensions/google.colab/files.js": {
              "data": "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",
              "ok": true,
              "headers": [
                [
                  "content-type",
                  "application/javascript"
                ]
              ],
              "status": 200,
              "status_text": ""
            }
          }
        },
        "id": "BN90mncDTSNb",
        "outputId": "40cde476-ca82-4405-97ec-22402fb54635"
      }
    },
    {
      "cell_type": "code",
      "source": [
        "# Print the first few rows\n",
        "df.head()"
      ],
      "metadata": {
        "colab": {
          "base_uri": "https://localhost:8080/",
          "height": 204
        },
        "id": "JdW43TVMVn1J",
        "outputId": "2290baf2-15f2-4984-8dbc-622a9f399240"
      },
      "execution_count": null,
      "outputs": [
        {
          "output_type": "execute_result",
          "data": {
            "text/plain": [
              "    mpg  cylinders  displacement  horsepower  weight  acceleration  year  \\\n",
              "0  18.0          8         307.0         130    3504          12.0  70.0   \n",
              "1  15.0          8         350.0         165    3693          11.5  70.0   \n",
              "2  18.0          8         318.0         150    3436          11.0  70.0   \n",
              "3  16.0          8         304.0         150    3433          12.0  70.0   \n",
              "4  17.0          8         302.0         140    3449           NaN  70.0   \n",
              "\n",
              "   origin                       name  \n",
              "0       1  chevrolet chevelle malibu  \n",
              "1       1          buick skylark 320  \n",
              "2       1         plymouth satellite  \n",
              "3       1              amc rebel sst  \n",
              "4       1                ford torino  "
            ],
            "text/html": [
              "\n",
              "  <div id=\"df-959fd89c-954b-4568-8baa-e890234a46f2\">\n",
              "    <div class=\"colab-df-container\">\n",
              "      <div>\n",
              "<style scoped>\n",
              "    .dataframe tbody tr th:only-of-type {\n",
              "        vertical-align: middle;\n",
              "    }\n",
              "\n",
              "    .dataframe tbody tr th {\n",
              "        vertical-align: top;\n",
              "    }\n",
              "\n",
              "    .dataframe thead th {\n",
              "        text-align: right;\n",
              "    }\n",
              "</style>\n",
              "<table border=\"1\" class=\"dataframe\">\n",
              "  <thead>\n",
              "    <tr style=\"text-align: right;\">\n",
              "      <th></th>\n",
              "      <th>mpg</th>\n",
              "      <th>cylinders</th>\n",
              "      <th>displacement</th>\n",
              "      <th>horsepower</th>\n",
              "      <th>weight</th>\n",
              "      <th>acceleration</th>\n",
              "      <th>year</th>\n",
              "      <th>origin</th>\n",
              "      <th>name</th>\n",
              "    </tr>\n",
              "  </thead>\n",
              "  <tbody>\n",
              "    <tr>\n",
              "      <th>0</th>\n",
              "      <td>18.0</td>\n",
              "      <td>8</td>\n",
              "      <td>307.0</td>\n",
              "      <td>130</td>\n",
              "      <td>3504</td>\n",
              "      <td>12.0</td>\n",
              "      <td>70.0</td>\n",
              "      <td>1</td>\n",
              "      <td>chevrolet chevelle malibu</td>\n",
              "    </tr>\n",
              "    <tr>\n",
              "      <th>1</th>\n",
              "      <td>15.0</td>\n",
              "      <td>8</td>\n",
              "      <td>350.0</td>\n",
              "      <td>165</td>\n",
              "      <td>3693</td>\n",
              "      <td>11.5</td>\n",
              "      <td>70.0</td>\n",
              "      <td>1</td>\n",
              "      <td>buick skylark 320</td>\n",
              "    </tr>\n",
              "    <tr>\n",
              "      <th>2</th>\n",
              "      <td>18.0</td>\n",
              "      <td>8</td>\n",
              "      <td>318.0</td>\n",
              "      <td>150</td>\n",
              "      <td>3436</td>\n",
              "      <td>11.0</td>\n",
              "      <td>70.0</td>\n",
              "      <td>1</td>\n",
              "      <td>plymouth satellite</td>\n",
              "    </tr>\n",
              "    <tr>\n",
              "      <th>3</th>\n",
              "      <td>16.0</td>\n",
              "      <td>8</td>\n",
              "      <td>304.0</td>\n",
              "      <td>150</td>\n",
              "      <td>3433</td>\n",
              "      <td>12.0</td>\n",
              "      <td>70.0</td>\n",
              "      <td>1</td>\n",
              "      <td>amc rebel sst</td>\n",
              "    </tr>\n",
              "    <tr>\n",
              "      <th>4</th>\n",
              "      <td>17.0</td>\n",
              "      <td>8</td>\n",
              "      <td>302.0</td>\n",
              "      <td>140</td>\n",
              "      <td>3449</td>\n",
              "      <td>NaN</td>\n",
              "      <td>70.0</td>\n",
              "      <td>1</td>\n",
              "      <td>ford torino</td>\n",
              "    </tr>\n",
              "  </tbody>\n",
              "</table>\n",
              "</div>\n",
              "      <button class=\"colab-df-convert\" onclick=\"convertToInteractive('df-959fd89c-954b-4568-8baa-e890234a46f2')\"\n",
              "              title=\"Convert this dataframe to an interactive table.\"\n",
              "              style=\"display:none;\">\n",
              "        \n",
              "  <svg xmlns=\"http://www.w3.org/2000/svg\" height=\"24px\"viewBox=\"0 0 24 24\"\n",
              "       width=\"24px\">\n",
              "    <path d=\"M0 0h24v24H0V0z\" fill=\"none\"/>\n",
              "    <path d=\"M18.56 5.44l.94 2.06.94-2.06 2.06-.94-2.06-.94-.94-2.06-.94 2.06-2.06.94zm-11 1L8.5 8.5l.94-2.06 2.06-.94-2.06-.94L8.5 2.5l-.94 2.06-2.06.94zm10 10l.94 2.06.94-2.06 2.06-.94-2.06-.94-.94-2.06-.94 2.06-2.06.94z\"/><path d=\"M17.41 7.96l-1.37-1.37c-.4-.4-.92-.59-1.43-.59-.52 0-1.04.2-1.43.59L10.3 9.45l-7.72 7.72c-.78.78-.78 2.05 0 2.83L4 21.41c.39.39.9.59 1.41.59.51 0 1.02-.2 1.41-.59l7.78-7.78 2.81-2.81c.8-.78.8-2.07 0-2.86zM5.41 20L4 18.59l7.72-7.72 1.47 1.35L5.41 20z\"/>\n",
              "  </svg>\n",
              "      </button>\n",
              "      \n",
              "  <style>\n",
              "    .colab-df-container {\n",
              "      display:flex;\n",
              "      flex-wrap:wrap;\n",
              "      gap: 12px;\n",
              "    }\n",
              "\n",
              "    .colab-df-convert {\n",
              "      background-color: #E8F0FE;\n",
              "      border: none;\n",
              "      border-radius: 50%;\n",
              "      cursor: pointer;\n",
              "      display: none;\n",
              "      fill: #1967D2;\n",
              "      height: 32px;\n",
              "      padding: 0 0 0 0;\n",
              "      width: 32px;\n",
              "    }\n",
              "\n",
              "    .colab-df-convert:hover {\n",
              "      background-color: #E2EBFA;\n",
              "      box-shadow: 0px 1px 2px rgba(60, 64, 67, 0.3), 0px 1px 3px 1px rgba(60, 64, 67, 0.15);\n",
              "      fill: #174EA6;\n",
              "    }\n",
              "\n",
              "    [theme=dark] .colab-df-convert {\n",
              "      background-color: #3B4455;\n",
              "      fill: #D2E3FC;\n",
              "    }\n",
              "\n",
              "    [theme=dark] .colab-df-convert:hover {\n",
              "      background-color: #434B5C;\n",
              "      box-shadow: 0px 1px 3px 1px rgba(0, 0, 0, 0.15);\n",
              "      filter: drop-shadow(0px 1px 2px rgba(0, 0, 0, 0.3));\n",
              "      fill: #FFFFFF;\n",
              "    }\n",
              "  </style>\n",
              "\n",
              "      <script>\n",
              "        const buttonEl =\n",
              "          document.querySelector('#df-959fd89c-954b-4568-8baa-e890234a46f2 button.colab-df-convert');\n",
              "        buttonEl.style.display =\n",
              "          google.colab.kernel.accessAllowed ? 'block' : 'none';\n",
              "\n",
              "        async function convertToInteractive(key) {\n",
              "          const element = document.querySelector('#df-959fd89c-954b-4568-8baa-e890234a46f2');\n",
              "          const dataTable =\n",
              "            await google.colab.kernel.invokeFunction('convertToInteractive',\n",
              "                                                     [key], {});\n",
              "          if (!dataTable) return;\n",
              "\n",
              "          const docLinkHtml = 'Like what you see? Visit the ' +\n",
              "            '<a target=\"_blank\" href=https://colab.research.google.com/notebooks/data_table.ipynb>data table notebook</a>'\n",
              "            + ' to learn more about interactive tables.';\n",
              "          element.innerHTML = '';\n",
              "          dataTable['output_type'] = 'display_data';\n",
              "          await google.colab.output.renderOutput(dataTable, element);\n",
              "          const docLink = document.createElement('div');\n",
              "          docLink.innerHTML = docLinkHtml;\n",
              "          element.appendChild(docLink);\n",
              "        }\n",
              "      </script>\n",
              "    </div>\n",
              "  </div>\n",
              "  "
            ]
          },
          "metadata": {},
          "execution_count": 3
        }
      ]
    },
    {
      "cell_type": "code",
      "source": [
        "# Print dimesions of the data\n",
        "df.ndim"
      ],
      "metadata": {
        "colab": {
          "base_uri": "https://localhost:8080/"
        },
        "id": "qJyIGeLtWSy9",
        "outputId": "b672e3a9-c887-4b54-9131-794f4848a1f5"
      },
      "execution_count": null,
      "outputs": [
        {
          "output_type": "execute_result",
          "data": {
            "text/plain": [
              "2"
            ]
          },
          "metadata": {},
          "execution_count": 4
        }
      ]
    },
    {
      "cell_type": "markdown",
      "source": [
        "### 2 - Some data exploration \n",
        "\n",
        "* Use describe on the mpg, weight, and year columns\n",
        "* Write comments indicating the range and average of each column\n",
        "\n",
        "Your observations here:\n",
        "\n",
        "mpg\n",
        "* Range: max - min = 46.6 - 9 = 37.6\n",
        "* Average: 23.445918\n",
        "\n",
        "weight\n",
        "* Range: max - min = 5140 - 1613 = 3527\n",
        "* Average: 2977.584184\n",
        "\n",
        "year\n",
        "* Range: max - min = 82 - 70 = 12\n",
        "* Average: 76.010256\n"
      ],
      "metadata": {
        "id": "jsxsqhf9TSNb"
      }
    },
    {
      "cell_type": "code",
      "source": [
        "# Describe() mpg\n",
        "df.mpg.describe()"
      ],
      "outputs": [
        {
          "output_type": "execute_result",
          "data": {
            "text/plain": [
              "count    392.000000\n",
              "mean      23.445918\n",
              "std        7.805007\n",
              "min        9.000000\n",
              "25%       17.000000\n",
              "50%       22.750000\n",
              "75%       29.000000\n",
              "max       46.600000\n",
              "Name: mpg, dtype: float64"
            ]
          },
          "metadata": {},
          "execution_count": 5
        }
      ],
      "execution_count": null,
      "metadata": {
        "execution": {
          "iopub.status.busy": "2022-04-07T16:06:16.566Z",
          "iopub.execute_input": "2022-04-07T16:06:16.575Z",
          "iopub.status.idle": "2022-04-07T16:06:16.589Z",
          "shell.execute_reply": "2022-04-07T16:06:16.600Z"
        },
        "colab": {
          "base_uri": "https://localhost:8080/"
        },
        "id": "6afdw2sfTSNc",
        "outputId": "2d370404-4e6f-43d0-bb03-6359cebdb48d"
      }
    },
    {
      "cell_type": "code",
      "source": [
        "# Describe() weight\n",
        "df.weight.describe()"
      ],
      "outputs": [
        {
          "output_type": "execute_result",
          "data": {
            "text/plain": [
              "count     392.000000\n",
              "mean     2977.584184\n",
              "std       849.402560\n",
              "min      1613.000000\n",
              "25%      2225.250000\n",
              "50%      2803.500000\n",
              "75%      3614.750000\n",
              "max      5140.000000\n",
              "Name: weight, dtype: float64"
            ]
          },
          "metadata": {},
          "execution_count": 6
        }
      ],
      "execution_count": null,
      "metadata": {
        "execution": {
          "iopub.status.busy": "2022-04-07T16:06:27.983Z",
          "iopub.execute_input": "2022-04-07T16:06:27.990Z",
          "iopub.status.idle": "2022-04-07T16:06:28.002Z",
          "shell.execute_reply": "2022-04-07T16:06:28.011Z"
        },
        "colab": {
          "base_uri": "https://localhost:8080/"
        },
        "id": "P9oWIebiTSNc",
        "outputId": "064f9e7c-0d59-4ee5-dd8c-04ef437fb728"
      }
    },
    {
      "cell_type": "code",
      "source": [
        "# Describe() year\n",
        "df.year.describe()"
      ],
      "outputs": [
        {
          "output_type": "execute_result",
          "data": {
            "text/plain": [
              "count    390.000000\n",
              "mean      76.010256\n",
              "std        3.668093\n",
              "min       70.000000\n",
              "25%       73.000000\n",
              "50%       76.000000\n",
              "75%       79.000000\n",
              "max       82.000000\n",
              "Name: year, dtype: float64"
            ]
          },
          "metadata": {},
          "execution_count": 7
        }
      ],
      "execution_count": null,
      "metadata": {
        "execution": {
          "iopub.status.busy": "2022-04-07T16:06:34.892Z",
          "iopub.execute_input": "2022-04-07T16:06:34.899Z",
          "iopub.status.idle": "2022-04-07T16:06:34.915Z",
          "shell.execute_reply": "2022-04-07T16:06:34.924Z"
        },
        "colab": {
          "base_uri": "https://localhost:8080/"
        },
        "id": "Et_T1X_kTSNd",
        "outputId": "dc55e010-6766-42a9-8bdd-60909b6eb790"
      }
    },
    {
      "cell_type": "markdown",
      "source": [
        "### 3 - Explore data types\n",
        "\n",
        "* Check the data types of all columns\n",
        "* Change the cylinders column to categorical (cat codes)\n",
        "* Change the origin column to categorical (not cat codes)\n",
        "* Verify the changes with the dtypes attribute"
      ],
      "metadata": {
        "id": "GvfAz-zRTSNd"
      }
    },
    {
      "cell_type": "code",
      "source": [
        "# Check data types\n",
        "df.dtypes"
      ],
      "outputs": [
        {
          "output_type": "execute_result",
          "data": {
            "text/plain": [
              "mpg             float64\n",
              "cylinders         int64\n",
              "displacement    float64\n",
              "horsepower        int64\n",
              "weight            int64\n",
              "acceleration    float64\n",
              "year            float64\n",
              "origin            int64\n",
              "name             object\n",
              "dtype: object"
            ]
          },
          "metadata": {},
          "execution_count": 8
        }
      ],
      "execution_count": null,
      "metadata": {
        "execution": {
          "iopub.status.busy": "2022-04-07T16:03:28.775Z",
          "iopub.execute_input": "2022-04-07T16:03:28.783Z",
          "iopub.status.idle": "2022-04-07T16:03:28.801Z",
          "shell.execute_reply": "2022-04-07T16:03:28.809Z"
        },
        "colab": {
          "base_uri": "https://localhost:8080/"
        },
        "id": "la2KFR0STSNe",
        "outputId": "a6470164-6299-4709-91ac-4541b31af83d"
      }
    },
    {
      "cell_type": "code",
      "source": [
        "# Change cylinders to categorical (cat codes)\n",
        "df.cylinders = df.cylinders.astype('category').cat.codes\n",
        "\n",
        "# Change the origin column to categorical (not cat codes)\n",
        "df.origin = df.cylinders.astype('category')\n",
        "\n",
        "# Verify the changes\n",
        "df.dtypes"
      ],
      "outputs": [
        {
          "output_type": "execute_result",
          "data": {
            "text/plain": [
              "mpg              float64\n",
              "cylinders           int8\n",
              "displacement     float64\n",
              "horsepower         int64\n",
              "weight             int64\n",
              "acceleration     float64\n",
              "year             float64\n",
              "origin          category\n",
              "name              object\n",
              "dtype: object"
            ]
          },
          "metadata": {},
          "execution_count": 9
        }
      ],
      "execution_count": null,
      "metadata": {
        "execution": {
          "iopub.status.busy": "2022-04-07T16:07:14.906Z",
          "iopub.execute_input": "2022-04-07T16:07:14.913Z",
          "iopub.status.idle": "2022-04-07T16:07:14.924Z",
          "shell.execute_reply": "2022-04-07T16:07:14.932Z"
        },
        "colab": {
          "base_uri": "https://localhost:8080/"
        },
        "id": "pJmmSW4ETSNf",
        "outputId": "2c7aeec6-cb18-44c1-cd60-f51d3fd9e584"
      }
    },
    {
      "cell_type": "markdown",
      "source": [
        "### 4 - Check for NAs\n",
        "\n",
        "* Delete rows with NAs\n",
        "* Print the new dimensions"
      ],
      "metadata": {
        "id": "xWviORNfTSNg"
      }
    },
    {
      "cell_type": "code",
      "source": [
        "# Check for NAs\n",
        "df.isnull().sum()"
      ],
      "outputs": [
        {
          "output_type": "execute_result",
          "data": {
            "text/plain": [
              "mpg             0\n",
              "cylinders       0\n",
              "displacement    0\n",
              "horsepower      0\n",
              "weight          0\n",
              "acceleration    1\n",
              "year            2\n",
              "origin          0\n",
              "name            0\n",
              "dtype: int64"
            ]
          },
          "metadata": {},
          "execution_count": 10
        }
      ],
      "execution_count": null,
      "metadata": {
        "execution": {
          "iopub.status.busy": "2022-04-07T16:07:49.408Z",
          "iopub.execute_input": "2022-04-07T16:07:49.416Z",
          "iopub.status.idle": "2022-04-07T16:07:49.428Z",
          "shell.execute_reply": "2022-04-07T16:07:49.435Z"
        },
        "colab": {
          "base_uri": "https://localhost:8080/"
        },
        "id": "4yJpYZoITSNg",
        "outputId": "e8b06215-71b4-41dc-a690-41c1da39a871"
      }
    },
    {
      "cell_type": "code",
      "source": [
        "# Drop rows with NAs\n",
        "df = df.dropna()\n",
        "\n",
        "# Output new dimensions\n",
        "print('\\nDimensions of data frame: ', df.shape)"
      ],
      "outputs": [
        {
          "output_type": "stream",
          "name": "stdout",
          "text": [
            "\n",
            "Dimensions of data frame:  (389, 9)\n"
          ]
        }
      ],
      "execution_count": null,
      "metadata": {
        "execution": {
          "iopub.status.busy": "2022-04-07T16:08:01.754Z",
          "iopub.execute_input": "2022-04-07T16:08:01.762Z",
          "iopub.status.idle": "2022-04-07T16:08:01.772Z",
          "shell.execute_reply": "2022-04-07T16:08:01.781Z"
        },
        "colab": {
          "base_uri": "https://localhost:8080/"
        },
        "id": "rI036cdYTSNh",
        "outputId": "a9e63132-562c-40a3-ed89-04c10a8dc9b2"
      }
    },
    {
      "cell_type": "markdown",
      "source": [
        "### 5 - Modify columns\n",
        "\n",
        "* Make a new column mpg_high which is categorical: \n",
        "    * = 1 if mpg > average mpg, else 0\n",
        "* Delete the mpg and name columns\n",
        "* Print the first few rows of the modified data frame"
      ],
      "metadata": {
        "id": "gXLfD5KJTSNh"
      }
    },
    {
      "cell_type": "code",
      "source": [
        "# Create mpg_high column\n",
        "df['mpg_high'] = np.where(df.mpg > np.mean(df.mpg), 1, 0)\n",
        "\n",
        "# Delete mpg and name columns\n",
        "df = df.drop(columns = ['mpg', 'name'])\n",
        "\n",
        "# Print first few rows of modified dataframe \n",
        "df.head()"
      ],
      "outputs": [
        {
          "output_type": "execute_result",
          "data": {
            "text/plain": [
              "   cylinders  displacement  horsepower  weight  acceleration  year origin  \\\n",
              "0          4         307.0         130    3504          12.0  70.0      4   \n",
              "1          4         350.0         165    3693          11.5  70.0      4   \n",
              "2          4         318.0         150    3436          11.0  70.0      4   \n",
              "3          4         304.0         150    3433          12.0  70.0      4   \n",
              "6          4         454.0         220    4354           9.0  70.0      4   \n",
              "\n",
              "   mpg_high  \n",
              "0         0  \n",
              "1         0  \n",
              "2         0  \n",
              "3         0  \n",
              "6         0  "
            ],
            "text/html": [
              "\n",
              "  <div id=\"df-69736720-fd62-4434-bb6a-451d15b6a4ba\">\n",
              "    <div class=\"colab-df-container\">\n",
              "      <div>\n",
              "<style scoped>\n",
              "    .dataframe tbody tr th:only-of-type {\n",
              "        vertical-align: middle;\n",
              "    }\n",
              "\n",
              "    .dataframe tbody tr th {\n",
              "        vertical-align: top;\n",
              "    }\n",
              "\n",
              "    .dataframe thead th {\n",
              "        text-align: right;\n",
              "    }\n",
              "</style>\n",
              "<table border=\"1\" class=\"dataframe\">\n",
              "  <thead>\n",
              "    <tr style=\"text-align: right;\">\n",
              "      <th></th>\n",
              "      <th>cylinders</th>\n",
              "      <th>displacement</th>\n",
              "      <th>horsepower</th>\n",
              "      <th>weight</th>\n",
              "      <th>acceleration</th>\n",
              "      <th>year</th>\n",
              "      <th>origin</th>\n",
              "      <th>mpg_high</th>\n",
              "    </tr>\n",
              "  </thead>\n",
              "  <tbody>\n",
              "    <tr>\n",
              "      <th>0</th>\n",
              "      <td>4</td>\n",
              "      <td>307.0</td>\n",
              "      <td>130</td>\n",
              "      <td>3504</td>\n",
              "      <td>12.0</td>\n",
              "      <td>70.0</td>\n",
              "      <td>4</td>\n",
              "      <td>0</td>\n",
              "    </tr>\n",
              "    <tr>\n",
              "      <th>1</th>\n",
              "      <td>4</td>\n",
              "      <td>350.0</td>\n",
              "      <td>165</td>\n",
              "      <td>3693</td>\n",
              "      <td>11.5</td>\n",
              "      <td>70.0</td>\n",
              "      <td>4</td>\n",
              "      <td>0</td>\n",
              "    </tr>\n",
              "    <tr>\n",
              "      <th>2</th>\n",
              "      <td>4</td>\n",
              "      <td>318.0</td>\n",
              "      <td>150</td>\n",
              "      <td>3436</td>\n",
              "      <td>11.0</td>\n",
              "      <td>70.0</td>\n",
              "      <td>4</td>\n",
              "      <td>0</td>\n",
              "    </tr>\n",
              "    <tr>\n",
              "      <th>3</th>\n",
              "      <td>4</td>\n",
              "      <td>304.0</td>\n",
              "      <td>150</td>\n",
              "      <td>3433</td>\n",
              "      <td>12.0</td>\n",
              "      <td>70.0</td>\n",
              "      <td>4</td>\n",
              "      <td>0</td>\n",
              "    </tr>\n",
              "    <tr>\n",
              "      <th>6</th>\n",
              "      <td>4</td>\n",
              "      <td>454.0</td>\n",
              "      <td>220</td>\n",
              "      <td>4354</td>\n",
              "      <td>9.0</td>\n",
              "      <td>70.0</td>\n",
              "      <td>4</td>\n",
              "      <td>0</td>\n",
              "    </tr>\n",
              "  </tbody>\n",
              "</table>\n",
              "</div>\n",
              "      <button class=\"colab-df-convert\" onclick=\"convertToInteractive('df-69736720-fd62-4434-bb6a-451d15b6a4ba')\"\n",
              "              title=\"Convert this dataframe to an interactive table.\"\n",
              "              style=\"display:none;\">\n",
              "        \n",
              "  <svg xmlns=\"http://www.w3.org/2000/svg\" height=\"24px\"viewBox=\"0 0 24 24\"\n",
              "       width=\"24px\">\n",
              "    <path d=\"M0 0h24v24H0V0z\" fill=\"none\"/>\n",
              "    <path d=\"M18.56 5.44l.94 2.06.94-2.06 2.06-.94-2.06-.94-.94-2.06-.94 2.06-2.06.94zm-11 1L8.5 8.5l.94-2.06 2.06-.94-2.06-.94L8.5 2.5l-.94 2.06-2.06.94zm10 10l.94 2.06.94-2.06 2.06-.94-2.06-.94-.94-2.06-.94 2.06-2.06.94z\"/><path d=\"M17.41 7.96l-1.37-1.37c-.4-.4-.92-.59-1.43-.59-.52 0-1.04.2-1.43.59L10.3 9.45l-7.72 7.72c-.78.78-.78 2.05 0 2.83L4 21.41c.39.39.9.59 1.41.59.51 0 1.02-.2 1.41-.59l7.78-7.78 2.81-2.81c.8-.78.8-2.07 0-2.86zM5.41 20L4 18.59l7.72-7.72 1.47 1.35L5.41 20z\"/>\n",
              "  </svg>\n",
              "      </button>\n",
              "      \n",
              "  <style>\n",
              "    .colab-df-container {\n",
              "      display:flex;\n",
              "      flex-wrap:wrap;\n",
              "      gap: 12px;\n",
              "    }\n",
              "\n",
              "    .colab-df-convert {\n",
              "      background-color: #E8F0FE;\n",
              "      border: none;\n",
              "      border-radius: 50%;\n",
              "      cursor: pointer;\n",
              "      display: none;\n",
              "      fill: #1967D2;\n",
              "      height: 32px;\n",
              "      padding: 0 0 0 0;\n",
              "      width: 32px;\n",
              "    }\n",
              "\n",
              "    .colab-df-convert:hover {\n",
              "      background-color: #E2EBFA;\n",
              "      box-shadow: 0px 1px 2px rgba(60, 64, 67, 0.3), 0px 1px 3px 1px rgba(60, 64, 67, 0.15);\n",
              "      fill: #174EA6;\n",
              "    }\n",
              "\n",
              "    [theme=dark] .colab-df-convert {\n",
              "      background-color: #3B4455;\n",
              "      fill: #D2E3FC;\n",
              "    }\n",
              "\n",
              "    [theme=dark] .colab-df-convert:hover {\n",
              "      background-color: #434B5C;\n",
              "      box-shadow: 0px 1px 3px 1px rgba(0, 0, 0, 0.15);\n",
              "      filter: drop-shadow(0px 1px 2px rgba(0, 0, 0, 0.3));\n",
              "      fill: #FFFFFF;\n",
              "    }\n",
              "  </style>\n",
              "\n",
              "      <script>\n",
              "        const buttonEl =\n",
              "          document.querySelector('#df-69736720-fd62-4434-bb6a-451d15b6a4ba button.colab-df-convert');\n",
              "        buttonEl.style.display =\n",
              "          google.colab.kernel.accessAllowed ? 'block' : 'none';\n",
              "\n",
              "        async function convertToInteractive(key) {\n",
              "          const element = document.querySelector('#df-69736720-fd62-4434-bb6a-451d15b6a4ba');\n",
              "          const dataTable =\n",
              "            await google.colab.kernel.invokeFunction('convertToInteractive',\n",
              "                                                     [key], {});\n",
              "          if (!dataTable) return;\n",
              "\n",
              "          const docLinkHtml = 'Like what you see? Visit the ' +\n",
              "            '<a target=\"_blank\" href=https://colab.research.google.com/notebooks/data_table.ipynb>data table notebook</a>'\n",
              "            + ' to learn more about interactive tables.';\n",
              "          element.innerHTML = '';\n",
              "          dataTable['output_type'] = 'display_data';\n",
              "          await google.colab.output.renderOutput(dataTable, element);\n",
              "          const docLink = document.createElement('div');\n",
              "          docLink.innerHTML = docLinkHtml;\n",
              "          element.appendChild(docLink);\n",
              "        }\n",
              "      </script>\n",
              "    </div>\n",
              "  </div>\n",
              "  "
            ]
          },
          "metadata": {},
          "execution_count": 12
        }
      ],
      "execution_count": null,
      "metadata": {
        "execution": {
          "iopub.status.busy": "2022-04-07T16:08:13.691Z",
          "iopub.execute_input": "2022-04-07T16:08:13.700Z",
          "iopub.status.idle": "2022-04-07T16:08:13.714Z",
          "shell.execute_reply": "2022-04-07T16:08:13.721Z"
        },
        "id": "_pWmrdeZTSNi",
        "colab": {
          "base_uri": "https://localhost:8080/",
          "height": 204
        },
        "outputId": "7d8baf1b-2584-4848-c9e3-f3692bd011b3"
      }
    },
    {
      "cell_type": "markdown",
      "source": [
        "### 6 - Data Exploration with graphs\n",
        "\n",
        "* Check the distribution of high/low in column mpg_high using a seaborn catplot\n",
        "* Using a relplot, plot horsepower on the x axis and weight on the y axis; setting hue and/or style to mpg_high\n",
        "* Using a boxplot, plot mpg_high on the x axis and weight on the y axis\n",
        "* For each graph, state one thing you learned about the data\n",
        "\n",
        "Sample comments (answers vary):\n",
        "* The two classes high and low mpg are fairly evenly distributed\n",
        "* Cars with higher horsepower tend to weigh more\n",
        "* Cars that weight more get lower mpg"
      ],
      "metadata": {
        "id": "0_vRkqaQTSNj"
      }
    },
    {
      "cell_type": "code",
      "source": [
        "# Catplot for mpg_high column \n",
        "sb.catplot(x = \"mpg_high\", kind = \"count\", data = df)"
      ],
      "outputs": [
        {
          "output_type": "execute_result",
          "data": {
            "text/plain": [
              "<seaborn.axisgrid.FacetGrid at 0x7fed50f142d0>"
            ]
          },
          "metadata": {},
          "execution_count": 13
        },
        {
          "output_type": "display_data",
          "data": {
            "text/plain": [
              "<Figure size 360x360 with 1 Axes>"
            ],
            "image/png": "[encoded data removed]"
          },
          "metadata": {
            "needs_background": "light"
          }
        }
      ],
      "execution_count": null,
      "metadata": {
        "execution": {
          "iopub.status.busy": "2022-04-07T16:09:01.037Z",
          "iopub.execute_input": "2022-04-07T16:09:01.043Z",
          "iopub.status.idle": "2022-04-07T16:09:01.054Z",
          "shell.execute_reply": "2022-04-07T16:09:01.061Z"
        },
        "id": "gQ3sUhzjTSNj",
        "colab": {
          "base_uri": "https://localhost:8080/",
          "height": 386
        },
        "outputId": "ed7d8e08-e97b-49b2-ed1b-2be12909296e"
      }
    },
    {
      "cell_type": "markdown",
      "source": [
        "Catplot comments:\n",
        "\n",
        "The vehicles are fairly evenly split between having high and low mileage. "
      ],
      "metadata": {
        "id": "IANcJ61Ay447"
      }
    },
    {
      "cell_type": "code",
      "source": [
        "# Relplot for horsepower vs weight\n",
        "sb.relplot(x = \"horsepower\", y = \"weight\", data = df, hue = \"mpg_high\", style = \"mpg_high\")"
      ],
      "outputs": [
        {
          "output_type": "execute_result",
          "data": {
            "text/plain": [
              "<seaborn.axisgrid.FacetGrid at 0x7fed4d5c0550>"
            ]
          },
          "metadata": {},
          "execution_count": 14
        },
        {
          "output_type": "display_data",
          "data": {
            "text/plain": [
              "<Figure size 417.25x360 with 1 Axes>"
            ],
            "image/png": "[encoded data removed]"
          },
          "metadata": {
            "needs_background": "light"
          }
        }
      ],
      "execution_count": null,
      "metadata": {
        "execution": {
          "iopub.status.busy": "2022-04-07T16:09:11.366Z",
          "iopub.execute_input": "2022-04-07T16:09:11.373Z",
          "iopub.status.idle": "2022-04-07T16:09:11.384Z",
          "shell.execute_reply": "2022-04-07T16:09:11.390Z"
        },
        "id": "C5dARV2cTSNk",
        "colab": {
          "base_uri": "https://localhost:8080/",
          "height": 386
        },
        "outputId": "424942c6-8a93-4821-f41d-908c3b990283"
      }
    },
    {
      "cell_type": "markdown",
      "source": [
        "Relplot comments:\n",
        "\n",
        "Weight and horsepower seem to have a fairly strong positive correlation."
      ],
      "metadata": {
        "id": "kYBQLJe5y--A"
      }
    },
    {
      "cell_type": "code",
      "source": [
        "# Boxplot for mpg_high vs weight\n",
        "sb.boxplot(x = \"mpg_high\", y = \"weight\", data = df)"
      ],
      "outputs": [
        {
          "output_type": "execute_result",
          "data": {
            "text/plain": [
              "<matplotlib.axes._subplots.AxesSubplot at 0x7fed4d0adc50>"
            ]
          },
          "metadata": {},
          "execution_count": 15
        },
        {
          "output_type": "display_data",
          "data": {
            "text/plain": [
              "<Figure size 432x288 with 1 Axes>"
            ],
            "image/png": "[encoded data removed]"
          },
          "metadata": {
            "needs_background": "light"
          }
        }
      ],
      "execution_count": null,
      "metadata": {
        "execution": {
          "iopub.status.busy": "2022-04-07T16:09:20.761Z",
          "iopub.execute_input": "2022-04-07T16:09:20.768Z",
          "iopub.status.idle": "2022-04-07T16:09:20.783Z",
          "shell.execute_reply": "2022-04-07T16:09:20.791Z"
        },
        "id": "942F_HbBTSNk",
        "colab": {
          "base_uri": "https://localhost:8080/",
          "height": 297
        },
        "outputId": "60be2608-43f9-479c-f4ff-468a1d1fb4dc"
      }
    },
    {
      "cell_type": "markdown",
      "source": [
        "Boxplot comments:\n",
        "\n",
        "Heavier vehicles seem to have a lower mileage, while lighter cars tend to get more mpg. "
      ],
      "metadata": {
        "id": "xSH1UMIhzAuq"
      }
    },
    {
      "cell_type": "markdown",
      "source": [
        "### 7 - Make train/test split\n",
        "* 80% train, 20% test\n",
        "* Use seed 1234\n",
        "* Use all remaining columns except mpg_high for the training data\n",
        "* Print the dimensions of train and test"
      ],
      "metadata": {
        "id": "oWleQo5vTSNk"
      }
    },
    {
      "cell_type": "code",
      "source": [
        "# Train/test split \n",
        "from sklearn.model_selection import train_test_split\n",
        "\n",
        "x = df.iloc[:, 0:6]\n",
        "y = df.iloc[:, 7]\n",
        "\n",
        "x_train, x_test, y_train, y_test = train_test_split(x, y, test_size = 0.2, random_state = 1234)\n",
        "\n",
        "print('Train size:', x_train.shape)\n",
        "print('Test size:', x_test.shape)"
      ],
      "outputs": [
        {
          "output_type": "stream",
          "name": "stdout",
          "text": [
            "Train size: (311, 6)\n",
            "Test size: (78, 6)\n"
          ]
        }
      ],
      "execution_count": null,
      "metadata": {
        "execution": {
          "iopub.status.busy": "2022-04-07T16:09:31.831Z",
          "iopub.execute_input": "2022-04-07T16:09:31.838Z",
          "iopub.status.idle": "2022-04-07T16:09:31.852Z",
          "shell.execute_reply": "2022-04-07T16:09:31.861Z"
        },
        "id": "UoxhvGd_TSNl",
        "colab": {
          "base_uri": "https://localhost:8080/"
        },
        "outputId": "6d9c8bf8-c03e-4112-d57c-9a0c80104ce8"
      }
    },
    {
      "cell_type": "markdown",
      "source": [
        "### 8 - Logistic Regression\n",
        "\n",
        "* Train a logistic regression model using solver lbfgs\n",
        "* Test and evaluate\n",
        "* Print metrics with the classification report"
      ],
      "metadata": {
        "id": "xKo8_QdeTSNl"
      }
    },
    {
      "cell_type": "code",
      "source": [
        "# Train the logistic regression model\n",
        "from sklearn.linear_model import LogisticRegression\n",
        "\n",
        "clf = LogisticRegression()\n",
        "clf.fit(x_train, y_train)\n",
        "clf.score(x_train, y_train)"
      ],
      "outputs": [
        {
          "output_type": "execute_result",
          "data": {
            "text/plain": [
              "0.9035369774919614"
            ]
          },
          "metadata": {},
          "execution_count": 17
        }
      ],
      "execution_count": null,
      "metadata": {
        "execution": {
          "iopub.status.busy": "2022-04-07T16:09:42.159Z",
          "iopub.execute_input": "2022-04-07T16:09:42.166Z",
          "iopub.status.idle": "2022-04-07T16:09:42.177Z",
          "shell.execute_reply": "2022-04-07T16:09:42.184Z"
        },
        "id": "o2B9bXBBTSNm",
        "colab": {
          "base_uri": "https://localhost:8080/"
        },
        "outputId": "fadf468d-b167-4781-bc96-89a51fae3c29"
      }
    },
    {
      "cell_type": "code",
      "source": [
        "# Make predictions\n",
        "pred = clf.predict(x_test)\n",
        "\n",
        "# Evaluate\n",
        "from sklearn.metrics import accuracy_score, precision_score, recall_score, f1_score\n",
        "print('Accuracy score: ', accuracy_score(y_test, pred))\n",
        "print('Precision score: ', precision_score(y_test, pred))\n",
        "print('Recall score: ', recall_score(y_test, pred))\n",
        "print('f1 score: ', f1_score(y_test, pred))"
      ],
      "metadata": {
        "colab": {
          "base_uri": "https://localhost:8080/"
        },
        "id": "wMgE-YPVe6YE",
        "outputId": "921099b6-5bec-4856-c7b2-77292f5eab48"
      },
      "execution_count": null,
      "outputs": [
        {
          "output_type": "stream",
          "name": "stdout",
          "text": [
            "Accuracy score:  0.8589743589743589\n",
            "Precision score:  0.7297297297297297\n",
            "Recall score:  0.9642857142857143\n",
            "f1 score:  0.8307692307692307\n"
          ]
        }
      ]
    },
    {
      "cell_type": "code",
      "source": [
        "# Print confusion matrix\n",
        "from sklearn.metrics import confusion_matrix\n",
        "confusion_matrix(y_test, pred)"
      ],
      "metadata": {
        "colab": {
          "base_uri": "https://localhost:8080/"
        },
        "id": "wIPZgfI9fUXL",
        "outputId": "6976a33e-b319-4dd6-e916-8cd5fb962cc2"
      },
      "execution_count": null,
      "outputs": [
        {
          "output_type": "execute_result",
          "data": {
            "text/plain": [
              "array([[40, 10],\n",
              "       [ 1, 27]])"
            ]
          },
          "metadata": {},
          "execution_count": 19
        }
      ]
    },
    {
      "cell_type": "code",
      "source": [
        "# Print classification report\n",
        "from sklearn.metrics import classification_report\n",
        "print(classification_report(y_test, pred))"
      ],
      "metadata": {
        "colab": {
          "base_uri": "https://localhost:8080/"
        },
        "id": "GN7s8h6-hMgo",
        "outputId": "494e1260-45da-404a-c9f6-0a6a8c719b7e"
      },
      "execution_count": null,
      "outputs": [
        {
          "output_type": "stream",
          "name": "stdout",
          "text": [
            "              precision    recall  f1-score   support\n",
            "\n",
            "           0       0.98      0.80      0.88        50\n",
            "           1       0.73      0.96      0.83        28\n",
            "\n",
            "    accuracy                           0.86        78\n",
            "   macro avg       0.85      0.88      0.85        78\n",
            "weighted avg       0.89      0.86      0.86        78\n",
            "\n"
          ]
        }
      ]
    },
    {
      "cell_type": "markdown",
      "source": [
        "### 9 - Decision Tree\n",
        "\n",
        "* Train a decision tree\n",
        "* Test and evaluate\n",
        "* Print metrics with the classification report\n",
        "* Plot the tree if your system is compatible (optional) (https://scikit-learn.org/stable/modules/tree.html)"
      ],
      "metadata": {
        "id": "GlP23PCDTSNm"
      }
    },
    {
      "cell_type": "code",
      "source": [
        "# Train decision tree\n",
        "from sklearn.tree import DecisionTreeClassifier\n",
        "\n",
        "clf = DecisionTreeClassifier()\n",
        "clf.fit(x_train, y_train)"
      ],
      "outputs": [
        {
          "output_type": "execute_result",
          "data": {
            "text/plain": [
              "DecisionTreeClassifier()"
            ]
          },
          "metadata": {},
          "execution_count": 21
        }
      ],
      "execution_count": null,
      "metadata": {
        "execution": {
          "iopub.status.busy": "2022-04-07T16:09:52.160Z",
          "iopub.execute_input": "2022-04-07T16:09:52.171Z",
          "iopub.status.idle": "2022-04-07T16:09:52.182Z",
          "shell.execute_reply": "2022-04-07T16:09:52.190Z"
        },
        "id": "nOqNyOsCTSNm",
        "colab": {
          "base_uri": "https://localhost:8080/"
        },
        "outputId": "2cea4f3f-4115-482a-931d-0f134fdb19b1"
      }
    },
    {
      "cell_type": "code",
      "source": [
        "# Make predictions\n",
        "pred = clf.predict(x_test)\n",
        "\n",
        "# Evaluate\n",
        "\n",
        "print('Accuracy score: ', accuracy_score(y_test, pred))\n",
        "print('Precision score: ', precision_score(y_test, pred))\n",
        "print('Recall score: ', recall_score(y_test, pred))\n",
        "print('f1 score: ', f1_score(y_test, pred))"
      ],
      "metadata": {
        "colab": {
          "base_uri": "https://localhost:8080/"
        },
        "id": "sH4NnWCog-Rm",
        "outputId": "32241068-7518-4b33-d17b-1b3adc7d2cb5"
      },
      "execution_count": null,
      "outputs": [
        {
          "output_type": "stream",
          "name": "stdout",
          "text": [
            "Accuracy score:  0.9230769230769231\n",
            "Precision score:  0.8666666666666667\n",
            "Recall score:  0.9285714285714286\n",
            "f1 score:  0.896551724137931\n"
          ]
        }
      ]
    },
    {
      "cell_type": "code",
      "source": [
        "# Print confusion matrix\n",
        "confusion_matrix(y_test, pred)"
      ],
      "metadata": {
        "colab": {
          "base_uri": "https://localhost:8080/"
        },
        "id": "NlMEO6SYhIh5",
        "outputId": "69afe3f9-2e54-4210-c242-97d0397e251f"
      },
      "execution_count": null,
      "outputs": [
        {
          "output_type": "execute_result",
          "data": {
            "text/plain": [
              "array([[46,  4],\n",
              "       [ 2, 26]])"
            ]
          },
          "metadata": {},
          "execution_count": 23
        }
      ]
    },
    {
      "cell_type": "code",
      "source": [
        "# Print classification report\n",
        "from sklearn.metrics import classification_report\n",
        "print(classification_report(y_test, pred))"
      ],
      "metadata": {
        "colab": {
          "base_uri": "https://localhost:8080/"
        },
        "id": "tW4LAyerhOtG",
        "outputId": "c66f1dd8-087e-4ce4-f8a6-879a2793e235"
      },
      "execution_count": null,
      "outputs": [
        {
          "output_type": "stream",
          "name": "stdout",
          "text": [
            "              precision    recall  f1-score   support\n",
            "\n",
            "           0       0.96      0.92      0.94        50\n",
            "           1       0.87      0.93      0.90        28\n",
            "\n",
            "    accuracy                           0.92        78\n",
            "   macro avg       0.91      0.92      0.92        78\n",
            "weighted avg       0.93      0.92      0.92        78\n",
            "\n"
          ]
        }
      ]
    },
    {
      "cell_type": "code",
      "source": [
        "# Plot the tree (optional)\n",
        "tree.plot_tree(clf)\n"
      ],
      "outputs": [
        {
          "output_type": "execute_result",
          "data": {
            "text/plain": [
              "[Text(0.6597222222222222, 0.9444444444444444, 'X[0] <= 2.5\\ngini = 0.5\\nsamples = 311\\nvalue = [153, 158]'),\n",
              " Text(0.4583333333333333, 0.8333333333333334, 'X[2] <= 101.0\\ngini = 0.239\\nsamples = 173\\nvalue = [24, 149]'),\n",
              " Text(0.3055555555555556, 0.7222222222222222, 'X[5] <= 75.5\\ngini = 0.179\\nsamples = 161\\nvalue = [16, 145]'),\n",
              " Text(0.16666666666666666, 0.6111111111111112, 'X[1] <= 119.5\\ngini = 0.362\\nsamples = 59\\nvalue = [14, 45]'),\n",
              " Text(0.05555555555555555, 0.5, 'X[0] <= 0.5\\ngini = 0.159\\nsamples = 46\\nvalue = [4, 42]'),\n",
              " Text(0.027777777777777776, 0.3888888888888889, 'gini = 0.0\\nsamples = 2\\nvalue = [2, 0]'),\n",
              " Text(0.08333333333333333, 0.3888888888888889, 'X[3] <= 2683.0\\ngini = 0.087\\nsamples = 44\\nvalue = [2, 42]'),\n",
              " Text(0.05555555555555555, 0.2777777777777778, 'X[3] <= 2377.0\\ngini = 0.045\\nsamples = 43\\nvalue = [1, 42]'),\n",
              " Text(0.027777777777777776, 0.16666666666666666, 'gini = 0.0\\nsamples = 38\\nvalue = [0, 38]'),\n",
              " Text(0.08333333333333333, 0.16666666666666666, 'X[3] <= 2385.0\\ngini = 0.32\\nsamples = 5\\nvalue = [1, 4]'),\n",
              " Text(0.05555555555555555, 0.05555555555555555, 'gini = 0.0\\nsamples = 1\\nvalue = [1, 0]'),\n",
              " Text(0.1111111111111111, 0.05555555555555555, 'gini = 0.0\\nsamples = 4\\nvalue = [0, 4]'),\n",
              " Text(0.1111111111111111, 0.2777777777777778, 'gini = 0.0\\nsamples = 1\\nvalue = [1, 0]'),\n",
              " Text(0.2777777777777778, 0.5, 'X[3] <= 2567.0\\ngini = 0.355\\nsamples = 13\\nvalue = [10, 3]'),\n",
              " Text(0.25, 0.3888888888888889, 'X[5] <= 73.5\\ngini = 0.469\\nsamples = 8\\nvalue = [5, 3]'),\n",
              " Text(0.2222222222222222, 0.2777777777777778, 'X[3] <= 2329.5\\ngini = 0.278\\nsamples = 6\\nvalue = [5, 1]'),\n",
              " Text(0.19444444444444445, 0.16666666666666666, 'X[1] <= 131.0\\ngini = 0.5\\nsamples = 2\\nvalue = [1, 1]'),\n",
              " Text(0.16666666666666666, 0.05555555555555555, 'gini = 0.0\\nsamples = 1\\nvalue = [1, 0]'),\n",
              " Text(0.2222222222222222, 0.05555555555555555, 'gini = 0.0\\nsamples = 1\\nvalue = [0, 1]'),\n",
              " Text(0.25, 0.16666666666666666, 'gini = 0.0\\nsamples = 4\\nvalue = [4, 0]'),\n",
              " Text(0.2777777777777778, 0.2777777777777778, 'gini = 0.0\\nsamples = 2\\nvalue = [0, 2]'),\n",
              " Text(0.3055555555555556, 0.3888888888888889, 'gini = 0.0\\nsamples = 5\\nvalue = [5, 0]'),\n",
              " Text(0.4444444444444444, 0.6111111111111112, 'X[3] <= 3250.0\\ngini = 0.038\\nsamples = 102\\nvalue = [2, 100]'),\n",
              " Text(0.3888888888888889, 0.5, 'X[3] <= 2880.0\\ngini = 0.02\\nsamples = 100\\nvalue = [1, 99]'),\n",
              " Text(0.3611111111111111, 0.3888888888888889, 'gini = 0.0\\nsamples = 94\\nvalue = [0, 94]'),\n",
              " Text(0.4166666666666667, 0.3888888888888889, 'X[3] <= 2920.0\\ngini = 0.278\\nsamples = 6\\nvalue = [1, 5]'),\n",
              " Text(0.3888888888888889, 0.2777777777777778, 'gini = 0.0\\nsamples = 1\\nvalue = [1, 0]'),\n",
              " Text(0.4444444444444444, 0.2777777777777778, 'gini = 0.0\\nsamples = 5\\nvalue = [0, 5]'),\n",
              " Text(0.5, 0.5, 'X[2] <= 82.5\\ngini = 0.5\\nsamples = 2\\nvalue = [1, 1]'),\n",
              " Text(0.4722222222222222, 0.3888888888888889, 'gini = 0.0\\nsamples = 1\\nvalue = [0, 1]'),\n",
              " Text(0.5277777777777778, 0.3888888888888889, 'gini = 0.0\\nsamples = 1\\nvalue = [1, 0]'),\n",
              " Text(0.6111111111111112, 0.7222222222222222, 'X[4] <= 14.45\\ngini = 0.444\\nsamples = 12\\nvalue = [8, 4]'),\n",
              " Text(0.5833333333333334, 0.6111111111111112, 'X[5] <= 76.0\\ngini = 0.444\\nsamples = 6\\nvalue = [2, 4]'),\n",
              " Text(0.5555555555555556, 0.5, 'gini = 0.0\\nsamples = 3\\nvalue = [0, 3]'),\n",
              " Text(0.6111111111111112, 0.5, 'X[4] <= 13.95\\ngini = 0.444\\nsamples = 3\\nvalue = [2, 1]'),\n",
              " Text(0.5833333333333334, 0.3888888888888889, 'gini = 0.0\\nsamples = 2\\nvalue = [2, 0]'),\n",
              " Text(0.6388888888888888, 0.3888888888888889, 'gini = 0.0\\nsamples = 1\\nvalue = [0, 1]'),\n",
              " Text(0.6388888888888888, 0.6111111111111112, 'gini = 0.0\\nsamples = 6\\nvalue = [6, 0]'),\n",
              " Text(0.8611111111111112, 0.8333333333333334, 'X[5] <= 79.5\\ngini = 0.122\\nsamples = 138\\nvalue = [129, 9]'),\n",
              " Text(0.8055555555555556, 0.7222222222222222, 'X[4] <= 21.6\\ngini = 0.045\\nsamples = 129\\nvalue = [126, 3]'),\n",
              " Text(0.7777777777777778, 0.6111111111111112, 'X[3] <= 2737.0\\ngini = 0.031\\nsamples = 128\\nvalue = [126, 2]'),\n",
              " Text(0.7222222222222222, 0.5, 'X[3] <= 2674.0\\ngini = 0.444\\nsamples = 3\\nvalue = [2, 1]'),\n",
              " Text(0.6944444444444444, 0.3888888888888889, 'gini = 0.0\\nsamples = 2\\nvalue = [2, 0]'),\n",
              " Text(0.75, 0.3888888888888889, 'gini = 0.0\\nsamples = 1\\nvalue = [0, 1]'),\n",
              " Text(0.8333333333333334, 0.5, 'X[2] <= 83.0\\ngini = 0.016\\nsamples = 125\\nvalue = [124, 1]'),\n",
              " Text(0.8055555555555556, 0.3888888888888889, 'X[4] <= 18.55\\ngini = 0.375\\nsamples = 4\\nvalue = [3, 1]'),\n",
              " Text(0.7777777777777778, 0.2777777777777778, 'gini = 0.0\\nsamples = 1\\nvalue = [0, 1]'),\n",
              " Text(0.8333333333333334, 0.2777777777777778, 'gini = 0.0\\nsamples = 3\\nvalue = [3, 0]'),\n",
              " Text(0.8611111111111112, 0.3888888888888889, 'gini = 0.0\\nsamples = 121\\nvalue = [121, 0]'),\n",
              " Text(0.8333333333333334, 0.6111111111111112, 'gini = 0.0\\nsamples = 1\\nvalue = [0, 1]'),\n",
              " Text(0.9166666666666666, 0.7222222222222222, 'X[1] <= 196.5\\ngini = 0.444\\nsamples = 9\\nvalue = [3, 6]'),\n",
              " Text(0.8888888888888888, 0.6111111111111112, 'gini = 0.0\\nsamples = 4\\nvalue = [0, 4]'),\n",
              " Text(0.9444444444444444, 0.6111111111111112, 'X[1] <= 247.0\\ngini = 0.48\\nsamples = 5\\nvalue = [3, 2]'),\n",
              " Text(0.9166666666666666, 0.5, 'gini = 0.0\\nsamples = 3\\nvalue = [3, 0]'),\n",
              " Text(0.9722222222222222, 0.5, 'gini = 0.0\\nsamples = 2\\nvalue = [0, 2]')]"
            ]
          },
          "metadata": {},
          "execution_count": 25
        },
        {
          "output_type": "display_data",
          "data": {
            "text/plain": [
              "<Figure size 432x288 with 1 Axes>"
            ],
            "image/png": "[encoded data removed]"
          },
          "metadata": {
            "needs_background": "light"
          }
        }
      ],
      "execution_count": null,
      "metadata": {
        "execution": {
          "iopub.status.busy": "2022-04-07T16:10:04.912Z",
          "iopub.execute_input": "2022-04-07T16:10:04.920Z",
          "iopub.status.idle": "2022-04-07T16:10:04.933Z",
          "shell.execute_reply": "2022-04-07T16:10:04.939Z"
        },
        "id": "JJv9X5j2TSNn",
        "colab": {
          "base_uri": "https://localhost:8080/",
          "height": 1000
        },
        "outputId": "8086580b-9503-4c73-d7fa-adf05690ea1e"
      }
    },
    {
      "cell_type": "markdown",
      "source": [
        "### Analysis\n",
        "\n",
        "* Which algorithm performed better?\n",
        "* Compare the accuracy, recall, and precision\n",
        "* Give your analysis on why the better performing algorithm was able to outperform the other"
      ],
      "metadata": {
        "id": "lu5WJ8M7TSNn"
      }
    },
    {
      "cell_type": "markdown",
      "source": [
        "### Your analysis here\n",
        "\n",
        "The decision tree classification did a better job than logistic regression. Decision tree had better accuracy and precision, but the recall was higher in logistic regression. While the logistic regression model can separate binary classes pretty well, the decision tree's ability to make multiple branches allowed it to more accurately classify the test data. "
      ],
      "metadata": {
        "id": "Vu9JuplrTSNn"
      }
    },
    {
      "cell_type": "code",
      "source": [
        ""
      ],
      "outputs": [],
      "execution_count": null,
      "metadata": {
        "id": "YtWQgyR1TSNo"
      }
    }
  ],
  "metadata": {
    "kernelspec": {
      "display_name": "Python 3",
      "language": "python",
      "name": "python3"
    },
    "language_info": {
      "name": "python",
      "version": "3.7.3",
      "mimetype": "text/x-python",
      "codemirror_mode": {
        "name": "ipython",
        "version": 3
      },
      "pygments_lexer": "ipython3",
      "nbconvert_exporter": "python",
      "file_extension": ".py"
    },
    "nteract": {
      "version": "0.28.0"
    },
    "colab": {
      "name": "Python HW.ipynb",
      "provenance": [],
      "collapsed_sections": [],
      "include_colab_link": true
    }
  },
  "nbformat": 4,
  "nbformat_minor": 0
}